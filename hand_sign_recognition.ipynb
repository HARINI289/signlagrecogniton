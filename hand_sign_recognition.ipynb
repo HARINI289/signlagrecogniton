{
  "cells": [
    {
      "cell_type": "markdown",
      "source": [],
      "metadata": {
        "id": "W4Ohu5vzPsC-"
      }
    },
    {
      "cell_type": "code",
      "execution_count": 8,
      "metadata": {
        "id": "VxOokc7_nCE3",
        "colab": {
          "base_uri": "https://localhost:8080/"
        },
        "outputId": "adb3bc3d-3896-4e9c-bda4-b239609334d2"
      },
      "outputs": [
        {
          "output_type": "stream",
          "name": "stdout",
          "text": [
            "mkdir: cannot create directory ‘/root/.kaggle’: File exists\n"
          ]
        }
      ],
      "source": [
        "!mkdir ~/.kaggle\n",
        "!cp kaggle.json ~/.kaggle/\n",
        "!chmod 600 ~/.kaggle/kaggle.json"
      ]
    },
    {
      "cell_type": "code",
      "execution_count": 9,
      "metadata": {
        "id": "m64YaasznFb9",
        "colab": {
          "base_uri": "https://localhost:8080/"
        },
        "outputId": "925894a5-80ee-4d3f-b488-9bccab7ae02e"
      },
      "outputs": [
        {
          "output_type": "stream",
          "name": "stdout",
          "text": [
            "Downloading indian-sign-language-islrtc-referred.zip to /content\n",
            " 98% 596M/609M [00:04<00:00, 166MB/s]\n",
            "100% 609M/609M [00:04<00:00, 134MB/s]\n"
          ]
        }
      ],
      "source": [
        "!kaggle datasets download -d atharvadumbre/indian-sign-language-islrtc-referred"
      ]
    },
    {
      "cell_type": "code",
      "execution_count": null,
      "metadata": {
        "id": "UBPq-4hyoVXc"
      },
      "outputs": [],
      "source": [
        "!unzip /content/indian-sign-language-islrtc-referred.zip && rmN /content/indian-sign-language-islrtc-referred.zip"
      ]
    },
    {
      "cell_type": "code",
      "execution_count": 6,
      "metadata": {
        "id": "wnwapdVro_9x"
      },
      "outputs": [],
      "source": [
        "import os\n",
        "import cv2\n",
        "import numpy as np\n"
      ]
    },
    {
      "cell_type": "code",
      "execution_count": 11,
      "metadata": {
        "id": "c17QqZ3BohGC"
      },
      "outputs": [],
      "source": [
        "base_path = \"/content/original_images\"\n",
        "sample_num = 300\n",
        "img_size = (100,100)\n",
        "classes = os.listdir(base_path)"
      ]
    },
    {
      "cell_type": "code",
      "execution_count": 12,
      "metadata": {
        "id": "4VnYbd39o2BH",
        "colab": {
          "base_uri": "https://localhost:8080/"
        },
        "outputId": "47547e0c-0713-42c6-f57c-31c2a274f097"
      },
      "outputs": [
        {
          "output_type": "stream",
          "name": "stdout",
          "text": [
            "................................................................................................................................................................................................................................................................................................................................................................................................................................................................................................................................................................................................................................................................................................................................................................................................................................................................................................................................................................................................................................................................................................................................................................................................................................................................................................................................................................................................................................................................................................................................................................................................................................................................................................................................................................................................................................................................................................................................................................................................................................................................................................................................................................................................................................................................................................................................................................................................................................................................................................................................................................................................................................................................................................................................................................................................................................................................................................................................................................................................................................................................................................................................................................................................................................................................................................................................................................................................................................................................................................................................................................................................................................................................................................................................................................................................................................................................................................................................................................................................................................................................................................................................................................................................................................................................................................................................................................................................................................................................................................................................................................................................................................................................................................................................................................................................................................................................................................................................................................................................................................................................................................................................................................................................................................................................................................................................................................................................................................................................................................................................................................................................................................................................................................................................................................................................................................................................................................................................................................................................................................................................................................................................................................................................................................................................................................................................................................................................................................................................................................................................................................................................................................................................................................................................................................................................................................................................................................................................................................................................................................................................................................................................................................................................................................................................................................................................................................................................................................................................................................................................................................................................................................................................................................................................................................................................................................................................................................................................................................................................................................................................................................................................................................................................................................................................................................................................................................................................................................................................................................................................................................................................................................................................................................................................................................................................................................................................................................................................................................................................................................................................................................................................................................................................................................................................................................................................................................................................................................................................................................................................................................................................................................................................................................................................................................................................................................................................................................................................................................................................................................................................................................................................................................................................................................................................................................................................................................................................................................................................................................................................................................................................................................................................................................................................................................................................................................................................................................................................................................................................................................................................................................................................................................................................................................................"
          ]
        }
      ],
      "source": [
        "def create_dataset(classes, size):\n",
        "  temp = []\n",
        "  size = (size, size)\n",
        "  for i in classes:\n",
        "    folder_path = os.path.join(base_path, i)\n",
        "    img_names = os.listdir(folder_path)\n",
        "    for img_name in img_names[:sample_num]:\n",
        "      try:\n",
        "        full_path = os.path.join(folder_path, img_name)\n",
        "        img_data = cv2.imread(full_path,cv2.IMREAD_GRAYSCALE)\n",
        "        img_resied = cv2.resize(img_data, size)\n",
        "        temp.append([img_resied, classes.index(i)])\n",
        "        print(\".\", end = '')\n",
        "      except:\n",
        "        pass\n",
        "  return temp\n",
        "\n",
        "\n",
        "eff_data = create_dataset(classes,100)\n"
      ]
    },
    {
      "cell_type": "code",
      "source": [
        "from tensorflow import one_hot\n",
        "\n",
        "def split_x_y(data, img_size, onehot = 0):\n",
        "  x = []\n",
        "  y = []\n",
        "  for i in data:\n",
        "    x.append(i[0])\n",
        "    y.append(i[1])\n",
        "  x = np.array(x)\n",
        "  x = x/255.0\n",
        "  x = x.reshape(-1,img_size,img_size,1)\n",
        "  if onehot:\n",
        "    y = one_hot(y, len(classes))\n",
        "\n",
        "  return x,y"
      ],
      "metadata": {
        "id": "KDCJFEojr2ee"
      },
      "execution_count": 13,
      "outputs": []
    },
    {
      "cell_type": "code",
      "source": [
        "from sklearn.model_selection import train_test_split"
      ],
      "metadata": {
        "id": "E0c2wu0PscLi"
      },
      "execution_count": 14,
      "outputs": []
    },
    {
      "cell_type": "code",
      "source": [
        "x,y = split_x_y(eff_data, img_size = 100, onehot = 0)"
      ],
      "metadata": {
        "id": "BcuIMjTcsjS7"
      },
      "execution_count": 15,
      "outputs": []
    },
    {
      "cell_type": "code",
      "source": [
        "from tensorflow.keras.layers import Dense, Activation, Conv2D, Flatten, MaxPooling2D\n",
        "from tensorflow.keras import Sequential\n",
        "import tensorflow_hub as hub"
      ],
      "metadata": {
        "id": "mq0kT6Dssl4o"
      },
      "execution_count": 16,
      "outputs": []
    },
    {
      "cell_type": "code",
      "source": [
        "X_train, X_test, y_train, y_test = train_test_split(x, y, test_size=0.33, random_state=42)"
      ],
      "metadata": {
        "id": "HVNXqKgP0I-W"
      },
      "execution_count": 17,
      "outputs": []
    },
    {
      "cell_type": "code",
      "source": [
        "y_test = one_hot(y_test, len(classes))\n",
        "y_train = one_hot(y_train, len(classes))"
      ],
      "metadata": {
        "id": "2s3LLBqV0Oh1"
      },
      "execution_count": 18,
      "outputs": []
    },
    {
      "cell_type": "code",
      "source": [
        "model = Sequential()\n",
        "model.add(Conv2D(64, (3,3), input_shape = x.shape[1:]))\n",
        "model.add(MaxPooling2D(3,3))\n",
        "model.add(Activation(\"relu\"))\n",
        "\n",
        "model.add(Conv2D(64, (3,3)))\n",
        "model.add(MaxPooling2D(3,3))\n",
        "model.add(Activation(\"relu\"))\n",
        "\n",
        "model.add(Conv2D(64, (3,3)))\n",
        "model.add(MaxPooling2D(3,3))\n",
        "model.add(Activation(\"relu\"))\n",
        "\n",
        "model.add(Flatten())\n",
        "model.add(Dense(len(classes)))\n",
        "model.add(Activation(\"sigmoid\"))"
      ],
      "metadata": {
        "id": "GD8QmZSL0RQb"
      },
      "execution_count": 19,
      "outputs": []
    },
    {
      "cell_type": "code",
      "source": [
        "model.compile(loss = \"categorical_crossentropy\", metrics = [\"accuracy\"], optimizer=\"adam\")"
      ],
      "metadata": {
        "id": "ycWPkYP207u_"
      },
      "execution_count": 20,
      "outputs": []
    },
    {
      "cell_type": "code",
      "source": [
        "hists = model.fit(X_train, y_train, epochs = 10)\n",
        "model.save(\"model1.h5\")"
      ],
      "metadata": {
        "id": "B_VQhStx1ujR",
        "colab": {
          "base_uri": "https://localhost:8080/"
        },
        "outputId": "9d53d497-e99b-4332-c867-9476ccf5adb0"
      },
      "execution_count": 21,
      "outputs": [
        {
          "output_type": "stream",
          "name": "stdout",
          "text": [
            "Epoch 1/10\n",
            "227/227 [==============================] - 93s 405ms/step - loss: 3.3944 - accuracy: 0.0854\n",
            "Epoch 2/10\n",
            "227/227 [==============================] - 92s 406ms/step - loss: 1.6493 - accuracy: 0.5352\n",
            "Epoch 3/10\n",
            "227/227 [==============================] - 91s 399ms/step - loss: 0.7861 - accuracy: 0.7796\n",
            "Epoch 4/10\n",
            "227/227 [==============================] - 93s 411ms/step - loss: 0.4304 - accuracy: 0.8798\n",
            "Epoch 5/10\n",
            "227/227 [==============================] - 91s 399ms/step - loss: 0.2672 - accuracy: 0.9219\n",
            "Epoch 6/10\n",
            "227/227 [==============================] - 91s 401ms/step - loss: 0.1842 - accuracy: 0.9432\n",
            "Epoch 7/10\n",
            "227/227 [==============================] - 91s 399ms/step - loss: 0.1448 - accuracy: 0.9580\n",
            "Epoch 8/10\n",
            "227/227 [==============================] - 90s 397ms/step - loss: 0.0901 - accuracy: 0.9740\n",
            "Epoch 9/10\n",
            "227/227 [==============================] - 91s 403ms/step - loss: 0.0728 - accuracy: 0.9797\n",
            "Epoch 10/10\n",
            "227/227 [==============================] - 91s 400ms/step - loss: 0.0500 - accuracy: 0.9881\n"
          ]
        }
      ]
    },
    {
      "cell_type": "code",
      "source": [
        "model.evaluate(X_test, y_test)"
      ],
      "metadata": {
        "colab": {
          "base_uri": "https://localhost:8080/"
        },
        "id": "aX-kz1o9q05v",
        "outputId": "50204b2f-62c5-4b10-dd64-11b7445e0729"
      },
      "execution_count": 23,
      "outputs": [
        {
          "output_type": "stream",
          "name": "stdout",
          "text": [
            "112/112 [==============================] - 12s 103ms/step - loss: 0.2574 - accuracy: 0.9383\n"
          ]
        },
        {
          "output_type": "execute_result",
          "data": {
            "text/plain": [
              "[0.25741836428642273, 0.9382715821266174]"
            ]
          },
          "metadata": {},
          "execution_count": 23
        }
      ]
    },
    {
      "cell_type": "code",
      "source": [
        "from matplotlib import pyplot as plt\n",
        "def plot(hist):\n",
        "  plt.plot(hist.history['accuracy'], label = 'accuracy')\n",
        "  plt.plot(hist.history['loss'], label = 'loss')\n",
        "  plt.legend()\n",
        "  plt.show()"
      ],
      "metadata": {
        "id": "XZw9U1TjwRro"
      },
      "execution_count": 25,
      "outputs": []
    },
    {
      "cell_type": "code",
      "source": [
        "plot(hists)"
      ],
      "metadata": {
        "colab": {
          "base_uri": "https://localhost:8080/",
          "height": 266
        },
        "id": "C3Wr-9nzrvFD",
        "outputId": "445cb5ba-357b-4f41-e47d-2a7141d1ffdb"
      },
      "execution_count": 26,
      "outputs": [
        {
          "output_type": "display_data",
          "data": {
            "text/plain": [
              "<Figure size 432x288 with 1 Axes>"
            ],
            "image/png": "[encoded data removed]"
          },
          "metadata": {
            "needs_background": "light"
          }
        }
      ]
    },
    {
      "cell_type": "code",
      "source": [
        "from keras.models import load_model\n",
        "import cv2\n",
        "import numpy as np\n",
        "classes = ['D', '3', 'T', '6', 'P', '1', '2', '7', 'G', 'W', '5', 'L', 'R', 'C', 'H', 'K', 'J', 'B', 'Y', '8', 'U', 'F', 'O', 'N', 'Z', 'E', 'V', 'X', 'A', 'S', '9', 'I', '4', 'M', '0', 'Q']\n",
        "def make_pred(img_path, model_path):\n",
        "  model = load_model(model_path)\n",
        "  img = cv2.imread(img_path,cv2.IMREAD_GRAYSCALE)\n",
        "  img_resied = cv2.resize(img, (100,100))\n",
        "  img_reshape = img_resied.reshape(-1, 100, 100, 1)\n",
        "  res = model.predict(img_reshape)\n",
        "  print(classes[np.argmax(res)])\n",
        "\n",
        "make_pred(\"/content/original_images/D/1000.jpg\",\"model1.h5\")\n"
      ],
      "metadata": {
        "id": "gz4NwsVq3mpz"
      },
      "execution_count": null,
      "outputs": []
    }
  ],
  "metadata": {
    "colab": {
      "provenance": []
    },
    "kernelspec": {
      "display_name": "Python 3",
      "name": "python3"
    },
    "language_info": {
      "name": "python"
    }
  },
  "nbformat": 4,
  "nbformat_minor": 0
}